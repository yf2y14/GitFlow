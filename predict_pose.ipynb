{
  "nbformat": 4,
  "nbformat_minor": 0,
  "metadata": {
    "colab": {
      "provenance": [],
      "mount_file_id": "1GxpuZbJ6xDXOhoyF8cXrR59z-JhIXPxm",
      "authorship_tag": "ABX9TyPwOG43k+kppdOLPiO/kr1A",
      "include_colab_link": true
    },
    "kernelspec": {
      "name": "python3",
      "display_name": "Python 3"
    },
    "language_info": {
      "name": "python"
    }
  },
  "cells": [
    {
      "cell_type": "markdown",
      "metadata": {
        "id": "view-in-github",
        "colab_type": "text"
      },
      "source": [
        "<a href=\"https://colab.research.google.com/github/yf2y14/GitFlow/blob/fea.fu/predict_pose.ipynb\" target=\"_parent\"><img src=\"https://colab.research.google.com/assets/colab-badge.svg\" alt=\"Open In Colab\"/></a>"
      ]
    },
    {
      "cell_type": "code",
      "execution_count": null,
      "metadata": {
        "colab": {
          "base_uri": "https://localhost:8080/"
        },
        "id": "mFty7j8A_MtG",
        "outputId": "6d83cdf9-ccbd-43c1-f8c2-312360aabee5"
      },
      "outputs": [
        {
          "output_type": "stream",
          "name": "stdout",
          "text": [
            "1/1 [==============================] - 1s 1s/step\n"
          ]
        },
        {
          "output_type": "execute_result",
          "data": {
            "text/plain": [
              "['Sit']"
            ]
          },
          "metadata": {},
          "execution_count": 4
        }
      ],
      "source": [
        "import tensorflow as tf\n",
        "import pandas as pd\n",
        "import numpy as np\n",
        "from tensorflow.keras.applications.resnet import preprocess_input\n",
        "from tensorflow.keras.applications.resnet import decode_predictions\n",
        "\n",
        "model = tf.keras.models.load_model('/content/drive/MyDrive/itraining_final_pj/喵狗/CSV集中處/30row版/tok.h5')\n",
        "\n",
        "def pred_from_csv(file_path):\n",
        "  df = pd.read_csv(file_path,header=1)\n",
        "\n",
        "  xarray = df.iloc[:,:40].values.astype(float)\n",
        "  xarray=xarray[np.newaxis,:,:]\n",
        "\n",
        "  prediction =  model.predict(xarray)\n",
        "  predicted_p=np.argmax(prediction,axis=1)\n",
        "  #print(prediction)\n",
        "  pose=['Lay','Sit','Stand','Walk']\n",
        "  predicted_pose=[pose[i] for i in predicted_p]\n",
        "  return predicted_pose\n",
        "\n",
        "pred_from_csv('/content/drive/MyDrive/itraining_final_pj/喵狗/CSV集中處/30row版/dog_std (16).csv')"
      ]
    }
  ]
}