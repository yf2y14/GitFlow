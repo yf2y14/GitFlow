{
  "nbformat": 4,
  "nbformat_minor": 0,
  "metadata": {
    "colab": {
      "provenance": [],
      "include_colab_link": true
    },
    "kernelspec": {
      "name": "python3",
      "display_name": "Python 3"
    },
    "language_info": {
      "name": "python"
    }
  },
  "cells": [
    {
      "cell_type": "markdown",
      "metadata": {
        "id": "view-in-github",
        "colab_type": "text"
      },
      "source": [
        "<a href=\"https://colab.research.google.com/github/yf2y14/GitFlow/blob/peibranch/model1.ipynb\" target=\"_parent\"><img src=\"https://colab.research.google.com/assets/colab-badge.svg\" alt=\"Open In Colab\"/></a>"
      ]
    },
    {
      "cell_type": "code",
      "execution_count": null,
      "metadata": {
        "id": "cFrjfLf4bV6C",
        "colab": {
          "base_uri": "https://localhost:8080/"
        },
        "outputId": "006e982c-eb31-4c08-e838-d08be3357a79"
      },
      "outputs": [
        {
          "output_type": "stream",
          "name": "stdout",
          "text": [
            "Mounted at /content/drive\n"
          ]
        }
      ],
      "source": [
        "import numpy as np\n",
        "import tensorflow as tf\n",
        "from tensorflow.keras.models import Sequential\n",
        "from tensorflow.keras.layers import Input, LSTM, Dense, Dropout, Activation, BatchNormalization, TimeDistributed\n",
        "from tensorflow import keras\n",
        "import pandas as pd\n",
        "from keras.utils import to_categorical\n",
        "\n",
        "# Scikit-learn\n",
        "from sklearn.model_selection import train_test_split\n",
        "from sklearn.preprocessing import LabelEncoder\n",
        "\n",
        "from google.colab import drive\n",
        "drive.mount('/content/drive')\n"
      ]
    },
    {
      "cell_type": "code",
      "source": [
        "from google.colab import drive\n",
        "drive.mount('/content/drive')"
      ],
      "metadata": {
        "colab": {
          "base_uri": "https://localhost:8080/"
        },
        "id": "bvRfxkjwWG11",
        "outputId": "50f6405c-d151-43a9-e421-2cb9ed1acab1"
      },
      "execution_count": 1,
      "outputs": [
        {
          "output_type": "stream",
          "name": "stdout",
          "text": [
            "Mounted at /content/drive\n"
          ]
        }
      ]
    },
    {
      "cell_type": "code",
      "source": [
        "file = '/content/drive/MyDrive/itraining_final_pj/all_in_one.csv'\n",
        "df = pd.read_csv(file)#,index_col='scorer'\n",
        "df.head()"
      ],
      "metadata": {
        "id": "mQq0LFgbcO7p",
        "colab": {
          "base_uri": "https://localhost:8080/",
          "height": 273
        },
        "outputId": "ebbc6fa5-d6e8-4ac3-ee05-c9513fa2cc0c"
      },
      "execution_count": null,
      "outputs": [
        {
          "output_type": "execute_result",
          "data": {
            "text/plain": [
              "                 Nose              Nose.1               L_Eye  \\\n",
              "0                   x                   y                   x   \n",
              "1  -0.182468131984346  -0.603794638631668  -0.207916543612316   \n",
              "2  -0.027296628642358  -0.410600551129753  -0.026890505662434   \n",
              "3  -0.003235099485538  -0.378173450014642   -0.08068779599267   \n",
              "4    0.31394025038284   0.254507572679104  -0.199036320786061   \n",
              "\n",
              "              L_Eye.1               R_Eye             R_Eye.1  \\\n",
              "0                   y                   x                   y   \n",
              "1  -0.625418197032539  -0.172111160229527  -0.547969674185626   \n",
              "2  -0.409493258301423  -0.056150002944988  -0.410200038371056   \n",
              "3  -0.458557863200967  -0.081939547629094  -0.486706383603478   \n",
              "4  -0.580238935300982  -0.198260599413005  -0.610253530547535   \n",
              "\n",
              "                L_Ear             L_Ear.1               R_Ear  \\\n",
              "0                   x                   y                   x   \n",
              "1   0.305525627158422   0.202787888879815  -0.180568594043041   \n",
              "2  -0.020803131315936  -0.404891932573689   -0.03221114937831   \n",
              "3  -0.081742121343597  -0.471604878224904  -0.080770180788967   \n",
              "4  -0.199892110444958  -0.596528098222023   -0.19954081512522   \n",
              "\n",
              "              R_Ear.1  ...           R_B_Paw.1            L_B_Hock  \\\n",
              "0                   y  ...                   y                   x   \n",
              "1  -0.554184319205329  ...   0.201478517890387  -0.100836869931557   \n",
              "2  -0.413932505624666  ...  -0.445071563962012   0.013176963703469   \n",
              "3  -0.471704592299864  ...  -0.417330311546975   0.036418332871483   \n",
              "4  -0.595081847839509  ...   0.250315717876702   0.135100700405112   \n",
              "\n",
              "          L_B_Hock.1           R_B_Hock         R_B_Hock.1  \\\n",
              "0                  y                  x                  y   \n",
              "1   0.27330594168488  0.303503242010699  0.213755083266648   \n",
              "2  0.404198440878594  0.023598676193599  0.404980065457149   \n",
              "3  0.344241606813953  0.021212796992917  0.440963568496856   \n",
              "4  0.335500510810777  0.336585246493452  0.263187653099959   \n",
              "\n",
              "          L_B_Stiffle      L_B_Stiffle.1         R_B_Stiffle  \\\n",
              "0                   x                  y                   x   \n",
              "1  -0.056151298747477  0.171176424502568  -0.136528228343747   \n",
              "2   0.002266528906192   0.30900596803881  -0.003246592256966   \n",
              "3    0.03984679774486  0.346490028345843  -0.003329088722145   \n",
              "4   0.065132317783551  0.242006445992942  -0.097466400142095   \n",
              "\n",
              "       R_B_Stiffle.1          Y_situation  \n",
              "0                  y  Unnamed: 40_level_1  \n",
              "1  0.186205857539567                    3  \n",
              "2  0.406313130587979                    3  \n",
              "3  0.361088449521302                    3  \n",
              "4  0.238147853154971                    3  \n",
              "\n",
              "[5 rows x 41 columns]"
            ],
            "text/html": [
              "\n",
              "  <div id=\"df-dfd76195-e641-4322-9beb-04048f99e680\" class=\"colab-df-container\">\n",
              "    <div>\n",
              "<style scoped>\n",
              "    .dataframe tbody tr th:only-of-type {\n",
              "        vertical-align: middle;\n",
              "    }\n",
              "\n",
              "    .dataframe tbody tr th {\n",
              "        vertical-align: top;\n",
              "    }\n",
              "\n",
              "    .dataframe thead th {\n",
              "        text-align: right;\n",
              "    }\n",
              "</style>\n",
              "<table border=\"1\" class=\"dataframe\">\n",
              "  <thead>\n",
              "    <tr style=\"text-align: right;\">\n",
              "      <th></th>\n",
              "      <th>Nose</th>\n",
              "      <th>Nose.1</th>\n",
              "      <th>L_Eye</th>\n",
              "      <th>L_Eye.1</th>\n",
              "      <th>R_Eye</th>\n",
              "      <th>R_Eye.1</th>\n",
              "      <th>L_Ear</th>\n",
              "      <th>L_Ear.1</th>\n",
              "      <th>R_Ear</th>\n",
              "      <th>R_Ear.1</th>\n",
              "      <th>...</th>\n",
              "      <th>R_B_Paw.1</th>\n",
              "      <th>L_B_Hock</th>\n",
              "      <th>L_B_Hock.1</th>\n",
              "      <th>R_B_Hock</th>\n",
              "      <th>R_B_Hock.1</th>\n",
              "      <th>L_B_Stiffle</th>\n",
              "      <th>L_B_Stiffle.1</th>\n",
              "      <th>R_B_Stiffle</th>\n",
              "      <th>R_B_Stiffle.1</th>\n",
              "      <th>Y_situation</th>\n",
              "    </tr>\n",
              "  </thead>\n",
              "  <tbody>\n",
              "    <tr>\n",
              "      <th>0</th>\n",
              "      <td>x</td>\n",
              "      <td>y</td>\n",
              "      <td>x</td>\n",
              "      <td>y</td>\n",
              "      <td>x</td>\n",
              "      <td>y</td>\n",
              "      <td>x</td>\n",
              "      <td>y</td>\n",
              "      <td>x</td>\n",
              "      <td>y</td>\n",
              "      <td>...</td>\n",
              "      <td>y</td>\n",
              "      <td>x</td>\n",
              "      <td>y</td>\n",
              "      <td>x</td>\n",
              "      <td>y</td>\n",
              "      <td>x</td>\n",
              "      <td>y</td>\n",
              "      <td>x</td>\n",
              "      <td>y</td>\n",
              "      <td>Unnamed: 40_level_1</td>\n",
              "    </tr>\n",
              "    <tr>\n",
              "      <th>1</th>\n",
              "      <td>-0.182468131984346</td>\n",
              "      <td>-0.603794638631668</td>\n",
              "      <td>-0.207916543612316</td>\n",
              "      <td>-0.625418197032539</td>\n",
              "      <td>-0.172111160229527</td>\n",
              "      <td>-0.547969674185626</td>\n",
              "      <td>0.305525627158422</td>\n",
              "      <td>0.202787888879815</td>\n",
              "      <td>-0.180568594043041</td>\n",
              "      <td>-0.554184319205329</td>\n",
              "      <td>...</td>\n",
              "      <td>0.201478517890387</td>\n",
              "      <td>-0.100836869931557</td>\n",
              "      <td>0.27330594168488</td>\n",
              "      <td>0.303503242010699</td>\n",
              "      <td>0.213755083266648</td>\n",
              "      <td>-0.056151298747477</td>\n",
              "      <td>0.171176424502568</td>\n",
              "      <td>-0.136528228343747</td>\n",
              "      <td>0.186205857539567</td>\n",
              "      <td>3</td>\n",
              "    </tr>\n",
              "    <tr>\n",
              "      <th>2</th>\n",
              "      <td>-0.027296628642358</td>\n",
              "      <td>-0.410600551129753</td>\n",
              "      <td>-0.026890505662434</td>\n",
              "      <td>-0.409493258301423</td>\n",
              "      <td>-0.056150002944988</td>\n",
              "      <td>-0.410200038371056</td>\n",
              "      <td>-0.020803131315936</td>\n",
              "      <td>-0.404891932573689</td>\n",
              "      <td>-0.03221114937831</td>\n",
              "      <td>-0.413932505624666</td>\n",
              "      <td>...</td>\n",
              "      <td>-0.445071563962012</td>\n",
              "      <td>0.013176963703469</td>\n",
              "      <td>0.404198440878594</td>\n",
              "      <td>0.023598676193599</td>\n",
              "      <td>0.404980065457149</td>\n",
              "      <td>0.002266528906192</td>\n",
              "      <td>0.30900596803881</td>\n",
              "      <td>-0.003246592256966</td>\n",
              "      <td>0.406313130587979</td>\n",
              "      <td>3</td>\n",
              "    </tr>\n",
              "    <tr>\n",
              "      <th>3</th>\n",
              "      <td>-0.003235099485538</td>\n",
              "      <td>-0.378173450014642</td>\n",
              "      <td>-0.08068779599267</td>\n",
              "      <td>-0.458557863200967</td>\n",
              "      <td>-0.081939547629094</td>\n",
              "      <td>-0.486706383603478</td>\n",
              "      <td>-0.081742121343597</td>\n",
              "      <td>-0.471604878224904</td>\n",
              "      <td>-0.080770180788967</td>\n",
              "      <td>-0.471704592299864</td>\n",
              "      <td>...</td>\n",
              "      <td>-0.417330311546975</td>\n",
              "      <td>0.036418332871483</td>\n",
              "      <td>0.344241606813953</td>\n",
              "      <td>0.021212796992917</td>\n",
              "      <td>0.440963568496856</td>\n",
              "      <td>0.03984679774486</td>\n",
              "      <td>0.346490028345843</td>\n",
              "      <td>-0.003329088722145</td>\n",
              "      <td>0.361088449521302</td>\n",
              "      <td>3</td>\n",
              "    </tr>\n",
              "    <tr>\n",
              "      <th>4</th>\n",
              "      <td>0.31394025038284</td>\n",
              "      <td>0.254507572679104</td>\n",
              "      <td>-0.199036320786061</td>\n",
              "      <td>-0.580238935300982</td>\n",
              "      <td>-0.198260599413005</td>\n",
              "      <td>-0.610253530547535</td>\n",
              "      <td>-0.199892110444958</td>\n",
              "      <td>-0.596528098222023</td>\n",
              "      <td>-0.19954081512522</td>\n",
              "      <td>-0.595081847839509</td>\n",
              "      <td>...</td>\n",
              "      <td>0.250315717876702</td>\n",
              "      <td>0.135100700405112</td>\n",
              "      <td>0.335500510810777</td>\n",
              "      <td>0.336585246493452</td>\n",
              "      <td>0.263187653099959</td>\n",
              "      <td>0.065132317783551</td>\n",
              "      <td>0.242006445992942</td>\n",
              "      <td>-0.097466400142095</td>\n",
              "      <td>0.238147853154971</td>\n",
              "      <td>3</td>\n",
              "    </tr>\n",
              "  </tbody>\n",
              "</table>\n",
              "<p>5 rows × 41 columns</p>\n",
              "</div>\n",
              "    <div class=\"colab-df-buttons\">\n",
              "\n",
              "  <div class=\"colab-df-container\">\n",
              "    <button class=\"colab-df-convert\" onclick=\"convertToInteractive('df-dfd76195-e641-4322-9beb-04048f99e680')\"\n",
              "            title=\"Convert this dataframe to an interactive table.\"\n",
              "            style=\"display:none;\">\n",
              "\n",
              "  <svg xmlns=\"http://www.w3.org/2000/svg\" height=\"24px\" viewBox=\"0 -960 960 960\">\n",
              "    <path d=\"M120-120v-720h720v720H120Zm60-500h600v-160H180v160Zm220 220h160v-160H400v160Zm0 220h160v-160H400v160ZM180-400h160v-160H180v160Zm440 0h160v-160H620v160ZM180-180h160v-160H180v160Zm440 0h160v-160H620v160Z\"/>\n",
              "  </svg>\n",
              "    </button>\n",
              "\n",
              "  <style>\n",
              "    .colab-df-container {\n",
              "      display:flex;\n",
              "      gap: 12px;\n",
              "    }\n",
              "\n",
              "    .colab-df-convert {\n",
              "      background-color: #E8F0FE;\n",
              "      border: none;\n",
              "      border-radius: 50%;\n",
              "      cursor: pointer;\n",
              "      display: none;\n",
              "      fill: #1967D2;\n",
              "      height: 32px;\n",
              "      padding: 0 0 0 0;\n",
              "      width: 32px;\n",
              "    }\n",
              "\n",
              "    .colab-df-convert:hover {\n",
              "      background-color: #E2EBFA;\n",
              "      box-shadow: 0px 1px 2px rgba(60, 64, 67, 0.3), 0px 1px 3px 1px rgba(60, 64, 67, 0.15);\n",
              "      fill: #174EA6;\n",
              "    }\n",
              "\n",
              "    .colab-df-buttons div {\n",
              "      margin-bottom: 4px;\n",
              "    }\n",
              "\n",
              "    [theme=dark] .colab-df-convert {\n",
              "      background-color: #3B4455;\n",
              "      fill: #D2E3FC;\n",
              "    }\n",
              "\n",
              "    [theme=dark] .colab-df-convert:hover {\n",
              "      background-color: #434B5C;\n",
              "      box-shadow: 0px 1px 3px 1px rgba(0, 0, 0, 0.15);\n",
              "      filter: drop-shadow(0px 1px 2px rgba(0, 0, 0, 0.3));\n",
              "      fill: #FFFFFF;\n",
              "    }\n",
              "  </style>\n",
              "\n",
              "    <script>\n",
              "      const buttonEl =\n",
              "        document.querySelector('#df-dfd76195-e641-4322-9beb-04048f99e680 button.colab-df-convert');\n",
              "      buttonEl.style.display =\n",
              "        google.colab.kernel.accessAllowed ? 'block' : 'none';\n",
              "\n",
              "      async function convertToInteractive(key) {\n",
              "        const element = document.querySelector('#df-dfd76195-e641-4322-9beb-04048f99e680');\n",
              "        const dataTable =\n",
              "          await google.colab.kernel.invokeFunction('convertToInteractive',\n",
              "                                                    [key], {});\n",
              "        if (!dataTable) return;\n",
              "\n",
              "        const docLinkHtml = 'Like what you see? Visit the ' +\n",
              "          '<a target=\"_blank\" href=https://colab.research.google.com/notebooks/data_table.ipynb>data table notebook</a>'\n",
              "          + ' to learn more about interactive tables.';\n",
              "        element.innerHTML = '';\n",
              "        dataTable['output_type'] = 'display_data';\n",
              "        await google.colab.output.renderOutput(dataTable, element);\n",
              "        const docLink = document.createElement('div');\n",
              "        docLink.innerHTML = docLinkHtml;\n",
              "        element.appendChild(docLink);\n",
              "      }\n",
              "    </script>\n",
              "  </div>\n",
              "\n",
              "\n",
              "<div id=\"df-67dee9ac-b554-4418-bb6d-b9721fc50294\">\n",
              "  <button class=\"colab-df-quickchart\" onclick=\"quickchart('df-67dee9ac-b554-4418-bb6d-b9721fc50294')\"\n",
              "            title=\"Suggest charts.\"\n",
              "            style=\"display:none;\">\n",
              "\n",
              "<svg xmlns=\"http://www.w3.org/2000/svg\" height=\"24px\"viewBox=\"0 0 24 24\"\n",
              "     width=\"24px\">\n",
              "    <g>\n",
              "        <path d=\"M19 3H5c-1.1 0-2 .9-2 2v14c0 1.1.9 2 2 2h14c1.1 0 2-.9 2-2V5c0-1.1-.9-2-2-2zM9 17H7v-7h2v7zm4 0h-2V7h2v10zm4 0h-2v-4h2v4z\"/>\n",
              "    </g>\n",
              "</svg>\n",
              "  </button>\n",
              "\n",
              "<style>\n",
              "  .colab-df-quickchart {\n",
              "      --bg-color: #E8F0FE;\n",
              "      --fill-color: #1967D2;\n",
              "      --hover-bg-color: #E2EBFA;\n",
              "      --hover-fill-color: #174EA6;\n",
              "      --disabled-fill-color: #AAA;\n",
              "      --disabled-bg-color: #DDD;\n",
              "  }\n",
              "\n",
              "  [theme=dark] .colab-df-quickchart {\n",
              "      --bg-color: #3B4455;\n",
              "      --fill-color: #D2E3FC;\n",
              "      --hover-bg-color: #434B5C;\n",
              "      --hover-fill-color: #FFFFFF;\n",
              "      --disabled-bg-color: #3B4455;\n",
              "      --disabled-fill-color: #666;\n",
              "  }\n",
              "\n",
              "  .colab-df-quickchart {\n",
              "    background-color: var(--bg-color);\n",
              "    border: none;\n",
              "    border-radius: 50%;\n",
              "    cursor: pointer;\n",
              "    display: none;\n",
              "    fill: var(--fill-color);\n",
              "    height: 32px;\n",
              "    padding: 0;\n",
              "    width: 32px;\n",
              "  }\n",
              "\n",
              "  .colab-df-quickchart:hover {\n",
              "    background-color: var(--hover-bg-color);\n",
              "    box-shadow: 0 1px 2px rgba(60, 64, 67, 0.3), 0 1px 3px 1px rgba(60, 64, 67, 0.15);\n",
              "    fill: var(--button-hover-fill-color);\n",
              "  }\n",
              "\n",
              "  .colab-df-quickchart-complete:disabled,\n",
              "  .colab-df-quickchart-complete:disabled:hover {\n",
              "    background-color: var(--disabled-bg-color);\n",
              "    fill: var(--disabled-fill-color);\n",
              "    box-shadow: none;\n",
              "  }\n",
              "\n",
              "  .colab-df-spinner {\n",
              "    border: 2px solid var(--fill-color);\n",
              "    border-color: transparent;\n",
              "    border-bottom-color: var(--fill-color);\n",
              "    animation:\n",
              "      spin 1s steps(1) infinite;\n",
              "  }\n",
              "\n",
              "  @keyframes spin {\n",
              "    0% {\n",
              "      border-color: transparent;\n",
              "      border-bottom-color: var(--fill-color);\n",
              "      border-left-color: var(--fill-color);\n",
              "    }\n",
              "    20% {\n",
              "      border-color: transparent;\n",
              "      border-left-color: var(--fill-color);\n",
              "      border-top-color: var(--fill-color);\n",
              "    }\n",
              "    30% {\n",
              "      border-color: transparent;\n",
              "      border-left-color: var(--fill-color);\n",
              "      border-top-color: var(--fill-color);\n",
              "      border-right-color: var(--fill-color);\n",
              "    }\n",
              "    40% {\n",
              "      border-color: transparent;\n",
              "      border-right-color: var(--fill-color);\n",
              "      border-top-color: var(--fill-color);\n",
              "    }\n",
              "    60% {\n",
              "      border-color: transparent;\n",
              "      border-right-color: var(--fill-color);\n",
              "    }\n",
              "    80% {\n",
              "      border-color: transparent;\n",
              "      border-right-color: var(--fill-color);\n",
              "      border-bottom-color: var(--fill-color);\n",
              "    }\n",
              "    90% {\n",
              "      border-color: transparent;\n",
              "      border-bottom-color: var(--fill-color);\n",
              "    }\n",
              "  }\n",
              "</style>\n",
              "\n",
              "  <script>\n",
              "    async function quickchart(key) {\n",
              "      const quickchartButtonEl =\n",
              "        document.querySelector('#' + key + ' button');\n",
              "      quickchartButtonEl.disabled = true;  // To prevent multiple clicks.\n",
              "      quickchartButtonEl.classList.add('colab-df-spinner');\n",
              "      try {\n",
              "        const charts = await google.colab.kernel.invokeFunction(\n",
              "            'suggestCharts', [key], {});\n",
              "      } catch (error) {\n",
              "        console.error('Error during call to suggestCharts:', error);\n",
              "      }\n",
              "      quickchartButtonEl.classList.remove('colab-df-spinner');\n",
              "      quickchartButtonEl.classList.add('colab-df-quickchart-complete');\n",
              "    }\n",
              "    (() => {\n",
              "      let quickchartButtonEl =\n",
              "        document.querySelector('#df-67dee9ac-b554-4418-bb6d-b9721fc50294 button');\n",
              "      quickchartButtonEl.style.display =\n",
              "        google.colab.kernel.accessAllowed ? 'block' : 'none';\n",
              "    })();\n",
              "  </script>\n",
              "</div>\n",
              "    </div>\n",
              "  </div>\n"
            ]
          },
          "metadata": {},
          "execution_count": 2
        }
      ]
    },
    {
      "cell_type": "code",
      "source": [
        "df.shape\n"
      ],
      "metadata": {
        "colab": {
          "base_uri": "https://localhost:8080/"
        },
        "id": "mIW7-pqvthL-",
        "outputId": "fdec9ea9-d2b1-46e0-fcfb-7e3390cad0cb"
      },
      "execution_count": null,
      "outputs": [
        {
          "output_type": "execute_result",
          "data": {
            "text/plain": [
              "(3001, 41)"
            ]
          },
          "metadata": {},
          "execution_count": 3
        }
      ]
    },
    {
      "cell_type": "code",
      "source": [
        "df=df[1:]"
      ],
      "metadata": {
        "id": "4shuCVVvR6qc"
      },
      "execution_count": null,
      "outputs": []
    },
    {
      "cell_type": "code",
      "source": [
        "df.shape\n"
      ],
      "metadata": {
        "colab": {
          "base_uri": "https://localhost:8080/"
        },
        "id": "dtqohA2IRPhU",
        "outputId": "40cd0ca8-4701-485b-8379-0029f0f20f80"
      },
      "execution_count": null,
      "outputs": [
        {
          "output_type": "execute_result",
          "data": {
            "text/plain": [
              "(3000, 41)"
            ]
          },
          "metadata": {},
          "execution_count": 5
        }
      ]
    },
    {
      "cell_type": "code",
      "source": [
        "df_train, df_test = train_test_split(df, test_size=0.1, random_state=1,shuffle=False)#,stratify=df['Y_situation']\n",
        "print(\"TRAIN size:\", len(df_train))\n",
        "print(\"TEST size:\", len(df_test))"
      ],
      "metadata": {
        "colab": {
          "base_uri": "https://localhost:8080/"
        },
        "id": "7c1z9pniV7t_",
        "outputId": "c6366901-4f72-4977-fb5f-482430815090"
      },
      "execution_count": null,
      "outputs": [
        {
          "output_type": "stream",
          "name": "stdout",
          "text": [
            "TRAIN size: 2700\n",
            "TEST size: 300\n"
          ]
        }
      ]
    },
    {
      "cell_type": "code",
      "source": [
        "# df_train"
      ],
      "metadata": {
        "id": "3A9QQ-w-a3Wo"
      },
      "execution_count": null,
      "outputs": []
    },
    {
      "cell_type": "code",
      "source": [
        "x_train = df_train.iloc[:,:40].values\n",
        "x_test = df_test.iloc[:,:40].values\n",
        "y_train = df_train.iloc[:,40].values\n",
        "y_test = df_test.iloc[:,40].values"
      ],
      "metadata": {
        "id": "7YmThPaaW9Ax"
      },
      "execution_count": null,
      "outputs": []
    },
    {
      "cell_type": "code",
      "source": [
        "y_train"
      ],
      "metadata": {
        "colab": {
          "base_uri": "https://localhost:8080/"
        },
        "id": "aaF1OvIjcS92",
        "outputId": "55f7df5f-e043-499f-a574-10481a5afbd1"
      },
      "execution_count": null,
      "outputs": [
        {
          "output_type": "execute_result",
          "data": {
            "text/plain": [
              "array(['3', '3', '3', ..., '1', '1', '1'], dtype=object)"
            ]
          },
          "metadata": {},
          "execution_count": 9
        }
      ]
    },
    {
      "cell_type": "code",
      "source": [
        "x_train.shape"
      ],
      "metadata": {
        "colab": {
          "base_uri": "https://localhost:8080/"
        },
        "id": "njvB20iLhCmd",
        "outputId": "297b09a7-5184-4018-9014-6c56438657bc"
      },
      "execution_count": null,
      "outputs": [
        {
          "output_type": "execute_result",
          "data": {
            "text/plain": [
              "(2700, 40)"
            ]
          },
          "metadata": {},
          "execution_count": 10
        }
      ]
    },
    {
      "cell_type": "code",
      "source": [
        "# # Reshape the data\n",
        "# x_train = x_train.reshape((x_train.shape[0],x_train.shape[1],1))\n",
        "# x_test = x_test.reshape((x_test.shape[0],x_test.shape[1],1))"
      ],
      "metadata": {
        "id": "BE_5QmxUgzx_"
      },
      "execution_count": null,
      "outputs": []
    },
    {
      "cell_type": "code",
      "source": [
        "x_train.shape"
      ],
      "metadata": {
        "colab": {
          "base_uri": "https://localhost:8080/"
        },
        "id": "xVzfFtd5hRN0",
        "outputId": "f49a4afd-637a-431d-cfa5-591652fb48e4"
      },
      "execution_count": null,
      "outputs": [
        {
          "output_type": "execute_result",
          "data": {
            "text/plain": [
              "(2700, 40)"
            ]
          },
          "metadata": {},
          "execution_count": 12
        }
      ]
    },
    {
      "cell_type": "code",
      "source": [
        "y_train.shape"
      ],
      "metadata": {
        "colab": {
          "base_uri": "https://localhost:8080/"
        },
        "id": "9nvIhFgnnXyP",
        "outputId": "3cfeccc9-162f-4e0e-89ed-65c9eede7fb3"
      },
      "execution_count": null,
      "outputs": [
        {
          "output_type": "execute_result",
          "data": {
            "text/plain": [
              "(2700,)"
            ]
          },
          "metadata": {},
          "execution_count": 13
        }
      ]
    },
    {
      "cell_type": "code",
      "source": [
        "# One-hot encode the labels\n",
        "nb_classes=3\n",
        "y_train = to_categorical(y_train)#,nb_classes)\n",
        "y_test = to_categorical(y_test)#,nb_classes)"
      ],
      "metadata": {
        "id": "nOIl1N1pcuyn"
      },
      "execution_count": null,
      "outputs": []
    },
    {
      "cell_type": "code",
      "source": [
        "y_train.shape"
      ],
      "metadata": {
        "colab": {
          "base_uri": "https://localhost:8080/"
        },
        "id": "_PasHzZUnIFF",
        "outputId": "fdd3b682-9a1d-4371-a4c2-543a85e95d2d"
      },
      "execution_count": null,
      "outputs": [
        {
          "output_type": "execute_result",
          "data": {
            "text/plain": [
              "(2700, 4)"
            ]
          },
          "metadata": {},
          "execution_count": 15
        }
      ]
    },
    {
      "cell_type": "code",
      "source": [
        "y_train"
      ],
      "metadata": {
        "colab": {
          "base_uri": "https://localhost:8080/"
        },
        "id": "Bhgo0HaFqAwb",
        "outputId": "7ab4cbd9-b0f6-449c-e377-d4d42f58a3b7"
      },
      "execution_count": null,
      "outputs": [
        {
          "output_type": "execute_result",
          "data": {
            "text/plain": [
              "array([[0., 0., 0., 1.],\n",
              "       [0., 0., 0., 1.],\n",
              "       [0., 0., 0., 1.],\n",
              "       ...,\n",
              "       [0., 1., 0., 0.],\n",
              "       [0., 1., 0., 0.],\n",
              "       [0., 1., 0., 0.]], dtype=float32)"
            ]
          },
          "metadata": {},
          "execution_count": 16
        }
      ]
    },
    {
      "cell_type": "code",
      "source": [
        "max_features = 40 # 特徵數量\n",
        "maxlen = 40\n",
        "batch_size = 20\n",
        "timestep = 20\n",
        "# ebd_features = 300 # embedding features' dimension. why 300?? up to you!!"
      ],
      "metadata": {
        "id": "uSmr03JXdIn2"
      },
      "execution_count": null,
      "outputs": []
    },
    {
      "cell_type": "code",
      "source": [
        "from tensorflow.keras import Sequential\n",
        "from tensorflow.keras.optimizers import Adam\n",
        "from tensorflow.keras.layers import Dense, LSTM, Dropout, Embedding\n",
        "\n",
        "model = Sequential()   # 輸入 （sample size，time steps） with label encoding\n",
        "\n",
        "# model.add(LSTM(64, input_shape=(x_train.shape[1], 1)))\n",
        "# model.add(LSTM(64, input_shape=(timestep, 1)))\n",
        "model.add(LSTM(64, input_shape=(timestep,max_features)))\n",
        "# model.add(LSTM(16, return_sequences=True)) # 輸入 （sample size，time steps, input features）, LSTM's output features=??input_shape=(30,max_features)\n",
        "# model.add(Dropout(0.3))\n",
        "# model.add(LSTM(64)) # LSTM's output features=??\n",
        "# model.add(Dropout(0.3))\n",
        "model.add(Dense(3, activation='softmax')) # 輸出層，4個類別 classification output features=4\n",
        "# y_train是one-hot編碼成4個類別的。所以輸出層的神經元數量應該為4\n",
        "\n",
        "model.summary()\n",
        "\n",
        "model.compile(optimizer=Adam(1e-4),\n",
        "              loss='categorical_crossentropy',\n",
        "              metrics=['accuracy'])\n",
        "\n",
        "# 目標是one-hot編碼，使用categorical_crossentropy\n",
        "# 目標是整數的，使用sparse_categorical_crossentropy\n",
        "\n",
        "\n",
        "\n",
        "\n",
        "\n",
        "# history = model.fit(x_train, y_train,          # 簡易版設定\n",
        "#                     epochs=4,\n",
        "#                     batch_size=batch_size,\n",
        "#                     validation_split=0.2)"
      ],
      "metadata": {
        "colab": {
          "base_uri": "https://localhost:8080/"
        },
        "id": "jzEp-IMkdguv",
        "outputId": "a62204bf-cadd-43b1-a2c5-808463be7348"
      },
      "execution_count": null,
      "outputs": [
        {
          "output_type": "stream",
          "name": "stdout",
          "text": [
            "Model: \"sequential\"\n",
            "_________________________________________________________________\n",
            " Layer (type)                Output Shape              Param #   \n",
            "=================================================================\n",
            " lstm (LSTM)                 (None, 64)                26880     \n",
            "                                                                 \n",
            " dense (Dense)               (None, 3)                 195       \n",
            "                                                                 \n",
            "=================================================================\n",
            "Total params: 27075 (105.76 KB)\n",
            "Trainable params: 27075 (105.76 KB)\n",
            "Non-trainable params: 0 (0.00 Byte)\n",
            "_________________________________________________________________\n"
          ]
        }
      ]
    },
    {
      "cell_type": "code",
      "source": [
        "checkpoint = keras.callbacks.ModelCheckpoint('./tok.h5', monitor='val_accuracy', mode=\"max\", save_best_only=True, verbose=1)\n",
        "earlystopping = keras.callbacks.EarlyStopping(monitor='val_accuracy', mode=\"max\", patience=3, verbose=1)\n",
        "rlr = keras.callbacks.ReduceLROnPlateau(monitor='val_loss', factor=0.1, patience=2, verbose=1, mode='auto', min_delta=0.0001)\n",
        "\n",
        "model.fit(x_train, y_train, epochs=10, batch_size=batch_size,\n",
        "     validation_split=0.2, callbacks=[checkpoint,earlystopping,rlr])"
      ],
      "metadata": {
        "colab": {
          "base_uri": "https://localhost:8080/",
          "height": 655
        },
        "id": "lvZkYwDhep7t",
        "outputId": "9414a81e-6a12-4e8c-b5e2-6c94cc56be6c"
      },
      "execution_count": null,
      "outputs": [
        {
          "output_type": "stream",
          "name": "stdout",
          "text": [
            "Epoch 1/10\n"
          ]
        },
        {
          "output_type": "error",
          "ename": "ValueError",
          "evalue": "ignored",
          "traceback": [
            "\u001b[0;31m---------------------------------------------------------------------------\u001b[0m",
            "\u001b[0;31mValueError\u001b[0m                                Traceback (most recent call last)",
            "\u001b[0;32m<ipython-input-19-ec508bdfae00>\u001b[0m in \u001b[0;36m<cell line: 5>\u001b[0;34m()\u001b[0m\n\u001b[1;32m      3\u001b[0m \u001b[0mrlr\u001b[0m \u001b[0;34m=\u001b[0m \u001b[0mkeras\u001b[0m\u001b[0;34m.\u001b[0m\u001b[0mcallbacks\u001b[0m\u001b[0;34m.\u001b[0m\u001b[0mReduceLROnPlateau\u001b[0m\u001b[0;34m(\u001b[0m\u001b[0mmonitor\u001b[0m\u001b[0;34m=\u001b[0m\u001b[0;34m'val_loss'\u001b[0m\u001b[0;34m,\u001b[0m \u001b[0mfactor\u001b[0m\u001b[0;34m=\u001b[0m\u001b[0;36m0.1\u001b[0m\u001b[0;34m,\u001b[0m \u001b[0mpatience\u001b[0m\u001b[0;34m=\u001b[0m\u001b[0;36m2\u001b[0m\u001b[0;34m,\u001b[0m \u001b[0mverbose\u001b[0m\u001b[0;34m=\u001b[0m\u001b[0;36m1\u001b[0m\u001b[0;34m,\u001b[0m \u001b[0mmode\u001b[0m\u001b[0;34m=\u001b[0m\u001b[0;34m'auto'\u001b[0m\u001b[0;34m,\u001b[0m \u001b[0mmin_delta\u001b[0m\u001b[0;34m=\u001b[0m\u001b[0;36m0.0001\u001b[0m\u001b[0;34m)\u001b[0m\u001b[0;34m\u001b[0m\u001b[0;34m\u001b[0m\u001b[0m\n\u001b[1;32m      4\u001b[0m \u001b[0;34m\u001b[0m\u001b[0m\n\u001b[0;32m----> 5\u001b[0;31m model.fit(x_train, y_train, epochs=10, batch_size=batch_size,\n\u001b[0m\u001b[1;32m      6\u001b[0m      validation_split=0.2, callbacks=[checkpoint,earlystopping,rlr])\n",
            "\u001b[0;32m/usr/local/lib/python3.10/dist-packages/keras/src/utils/traceback_utils.py\u001b[0m in \u001b[0;36merror_handler\u001b[0;34m(*args, **kwargs)\u001b[0m\n\u001b[1;32m     68\u001b[0m             \u001b[0;31m# To get the full stack trace, call:\u001b[0m\u001b[0;34m\u001b[0m\u001b[0;34m\u001b[0m\u001b[0m\n\u001b[1;32m     69\u001b[0m             \u001b[0;31m# `tf.debugging.disable_traceback_filtering()`\u001b[0m\u001b[0;34m\u001b[0m\u001b[0;34m\u001b[0m\u001b[0m\n\u001b[0;32m---> 70\u001b[0;31m             \u001b[0;32mraise\u001b[0m \u001b[0me\u001b[0m\u001b[0;34m.\u001b[0m\u001b[0mwith_traceback\u001b[0m\u001b[0;34m(\u001b[0m\u001b[0mfiltered_tb\u001b[0m\u001b[0;34m)\u001b[0m \u001b[0;32mfrom\u001b[0m \u001b[0;32mNone\u001b[0m\u001b[0;34m\u001b[0m\u001b[0;34m\u001b[0m\u001b[0m\n\u001b[0m\u001b[1;32m     71\u001b[0m         \u001b[0;32mfinally\u001b[0m\u001b[0;34m:\u001b[0m\u001b[0;34m\u001b[0m\u001b[0;34m\u001b[0m\u001b[0m\n\u001b[1;32m     72\u001b[0m             \u001b[0;32mdel\u001b[0m \u001b[0mfiltered_tb\u001b[0m\u001b[0;34m\u001b[0m\u001b[0;34m\u001b[0m\u001b[0m\n",
            "\u001b[0;32m/usr/local/lib/python3.10/dist-packages/keras/src/engine/training.py\u001b[0m in \u001b[0;36mtf__train_function\u001b[0;34m(iterator)\u001b[0m\n\u001b[1;32m     13\u001b[0m                 \u001b[0;32mtry\u001b[0m\u001b[0;34m:\u001b[0m\u001b[0;34m\u001b[0m\u001b[0;34m\u001b[0m\u001b[0m\n\u001b[1;32m     14\u001b[0m                     \u001b[0mdo_return\u001b[0m \u001b[0;34m=\u001b[0m \u001b[0;32mTrue\u001b[0m\u001b[0;34m\u001b[0m\u001b[0;34m\u001b[0m\u001b[0m\n\u001b[0;32m---> 15\u001b[0;31m                     \u001b[0mretval_\u001b[0m \u001b[0;34m=\u001b[0m \u001b[0mag__\u001b[0m\u001b[0;34m.\u001b[0m\u001b[0mconverted_call\u001b[0m\u001b[0;34m(\u001b[0m\u001b[0mag__\u001b[0m\u001b[0;34m.\u001b[0m\u001b[0mld\u001b[0m\u001b[0;34m(\u001b[0m\u001b[0mstep_function\u001b[0m\u001b[0;34m)\u001b[0m\u001b[0;34m,\u001b[0m \u001b[0;34m(\u001b[0m\u001b[0mag__\u001b[0m\u001b[0;34m.\u001b[0m\u001b[0mld\u001b[0m\u001b[0;34m(\u001b[0m\u001b[0mself\u001b[0m\u001b[0;34m)\u001b[0m\u001b[0;34m,\u001b[0m \u001b[0mag__\u001b[0m\u001b[0;34m.\u001b[0m\u001b[0mld\u001b[0m\u001b[0;34m(\u001b[0m\u001b[0miterator\u001b[0m\u001b[0;34m)\u001b[0m\u001b[0;34m)\u001b[0m\u001b[0;34m,\u001b[0m \u001b[0;32mNone\u001b[0m\u001b[0;34m,\u001b[0m \u001b[0mfscope\u001b[0m\u001b[0;34m)\u001b[0m\u001b[0;34m\u001b[0m\u001b[0;34m\u001b[0m\u001b[0m\n\u001b[0m\u001b[1;32m     16\u001b[0m                 \u001b[0;32mexcept\u001b[0m\u001b[0;34m:\u001b[0m\u001b[0;34m\u001b[0m\u001b[0;34m\u001b[0m\u001b[0m\n\u001b[1;32m     17\u001b[0m                     \u001b[0mdo_return\u001b[0m \u001b[0;34m=\u001b[0m \u001b[0;32mFalse\u001b[0m\u001b[0;34m\u001b[0m\u001b[0;34m\u001b[0m\u001b[0m\n",
            "\u001b[0;31mValueError\u001b[0m: in user code:\n\n    File \"/usr/local/lib/python3.10/dist-packages/keras/src/engine/training.py\", line 1338, in train_function  *\n        return step_function(self, iterator)\n    File \"/usr/local/lib/python3.10/dist-packages/keras/src/engine/training.py\", line 1322, in step_function  **\n        outputs = model.distribute_strategy.run(run_step, args=(data,))\n    File \"/usr/local/lib/python3.10/dist-packages/keras/src/engine/training.py\", line 1303, in run_step  **\n        outputs = model.train_step(data)\n    File \"/usr/local/lib/python3.10/dist-packages/keras/src/engine/training.py\", line 1080, in train_step\n        y_pred = self(x, training=True)\n    File \"/usr/local/lib/python3.10/dist-packages/keras/src/utils/traceback_utils.py\", line 70, in error_handler\n        raise e.with_traceback(filtered_tb) from None\n    File \"/usr/local/lib/python3.10/dist-packages/keras/src/engine/input_spec.py\", line 298, in assert_input_compatibility\n        raise ValueError(\n\n    ValueError: Input 0 of layer \"sequential\" is incompatible with the layer: expected shape=(None, 20, 40), found shape=(20, 40)\n"
          ]
        }
      ]
    },
    {
      "cell_type": "code",
      "source": [],
      "metadata": {
        "id": "lNGPReAba1lB"
      },
      "execution_count": null,
      "outputs": []
    },
    {
      "cell_type": "code",
      "source": [
        "y_train.shape"
      ],
      "metadata": {
        "id": "3a75xLrFEzjd"
      },
      "execution_count": null,
      "outputs": []
    },
    {
      "cell_type": "code",
      "source": [
        "import numpy as np\n",
        "import tensorflow as tf\n",
        "from tensorflow.keras.models import Sequential\n",
        "from tensorflow.keras.layers import Input, LSTM, Dense, Dropout, Activation, BatchNormalization, TimeDistributed\n",
        "from tensorflow import keras\n",
        "import pandas as pd\n",
        "from keras.utils import to_categorical\n",
        "\n",
        "# Scikit-learn\n",
        "from sklearn.model_selection import train_test_split\n",
        "from sklearn.preprocessing import LabelEncoder\n",
        "file = '/content/drive/MyDrive/itraining_final_pj/all_in_one.csv'\n",
        "df = pd.read_csv(file, header=[0, 1])\n",
        "\n",
        "#df_train, df_test = train_test_split(df, test_size=0.1, random_state=1,shuffle=False )#stratify=df['Y_situation']\n",
        "df_train, df_test = train_test_split(df, test_size=0.1, random_state=1,shuffle=False)#, stratify=df['Y_situation']\n",
        "x_train = df_train.iloc[:,:40].values\n",
        "x_test = df_test.iloc[:,:40].values\n",
        "y_train = df_train.iloc[:,40].values\n",
        "y_test = df_test.iloc[:,40].values\n",
        "# x_train = x_train.reshape((x_train.shape[0], x_train.shape[1], 1))\n",
        "# x_test = x_test.reshape((x_test.shape[0], x_test.shape[1], 1))\n",
        "nb_classes=4\n",
        "y_train = to_categorical(y_train,nb_classes)\n",
        "y_test = to_categorical(y_test,nb_classes)\n",
        "\n",
        "\n",
        "max_features = 40\n",
        "batch_size = 30\n",
        "timestep = 30\n",
        "# X_train.shape[1]\n",
        "\n",
        "from tensorflow.keras import Sequential\n",
        "from tensorflow.keras.optimizers import Adam\n",
        "from tensorflow.keras.layers import Dense, LSTM, Dropout, Embedding\n",
        "\n",
        "model = Sequential()\n",
        "model.add(LSTM(128, input_shape=(timestep, max_features)))\n",
        "# model.add(LSTM(128, input_shape=(x_train.shape[1], 1)))\n",
        "model.add(Dropout(0.1))\n",
        "# model.add(LSTM(16))\n",
        "# model.add(Dropout(0.3))\n",
        "model.add(Dense(64, activation='tanh'))\n",
        "model.add(Dense(4, activation='softmax'))\n",
        "model.summary()\n",
        "model.compile(optimizer=Adam(1e-4),\n",
        "              loss='categorical_crossentropy',\n",
        "              metrics=['accuracy'])\n",
        "\n",
        "checkpoint = keras.callbacks.ModelCheckpoint('./tok.h5', monitor='val_accuracy', mode=\"max\", save_best_only=True, verbose=1)\n",
        "earlystopping = keras.callbacks.EarlyStopping(monitor='val_accuracy', mode=\"max\", patience=5, verbose=1)\n",
        "rlr = keras.callbacks.ReduceLROnPlateau(monitor='val_loss', factor=0.1, patience=2, verbose=1, mode='auto', min_delta=0.0001)\n",
        "\n",
        "model.fit(x_train, y_train, epochs=50, batch_size=batch_size,\n",
        "     validation_split=0.2, callbacks=[checkpoint,earlystopping,rlr])"
      ],
      "metadata": {
        "id": "-sSYyvvFciuJ"
      },
      "execution_count": null,
      "outputs": []
    },
    {
      "cell_type": "code",
      "source": [
        "model.evaluate(x_test, y_test, batch_size=30)"
      ],
      "metadata": {
        "id": "MCqI6u0yiXJc"
      },
      "execution_count": null,
      "outputs": []
    },
    {
      "cell_type": "code",
      "source": [
        "x_train.shape[1]"
      ],
      "metadata": {
        "id": "9eNWzxOpfLB6"
      },
      "execution_count": null,
      "outputs": []
    }
  ]
}